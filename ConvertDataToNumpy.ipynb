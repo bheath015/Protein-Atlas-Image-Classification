{
  "nbformat": 4,
  "nbformat_minor": 0,
  "metadata": {
    "colab": {
      "name": "ConvertDataToNumpy.ipynb",
      "version": "0.3.2",
      "provenance": [],
      "collapsed_sections": [],
      "include_colab_link": true
    },
    "kernelspec": {
      "name": "python3",
      "display_name": "Python 3"
    }
  },
  "cells": [
    {
      "cell_type": "markdown",
      "metadata": {
        "id": "view-in-github",
        "colab_type": "text"
      },
      "source": [
        "<a href=\"https://colab.research.google.com/github/bheath015/Protein-Atlas-Image-Classification/blob/vidula/ConvertDataToNumpy.ipynb\" target=\"_parent\"><img src=\"https://colab.research.google.com/assets/colab-badge.svg\" alt=\"Open In Colab\"/></a>"
      ]
    },
    {
      "metadata": {
        "id": "X_L2i6aMkva-",
        "colab_type": "code",
        "colab": {}
      },
      "cell_type": "code",
      "source": [
        "import os\n",
        "import random\n",
        "import numpy as np\n",
        "import cv2"
      ],
      "execution_count": 0,
      "outputs": []
    },
    {
      "metadata": {
        "id": "wPIXATvBjYst",
        "colab_type": "code",
        "colab": {}
      },
      "cell_type": "code",
      "source": [
        "# function to load all images in directory as numpy array\n",
        "\n",
        "def data_to_numpy(directory_name, num_images=None):\n",
        "  '''\n",
        "  Construct a num_imagesxwidthxheight numpy array of \n",
        "\n",
        "  :param directory_name: name of the directory where the dataset is stored\n",
        "  :param num_images: number of images to keep in resulting 4D numpy array\n",
        "                     if None, use all images\n",
        "  :return: numpy array of images: (num_images, 4 color channels, width, height)\n",
        "  '''\n",
        "  \n",
        "  channel_colors = ['red', 'blue', 'green', 'yellow']\n",
        "  \n",
        "  # make a list of all 4-channel images in directory (red, blue, green, yellow)\n",
        "  image_names = list({image_name.split('_')[0] for image_name in os.listdir(directory_name)})\n",
        "  random.shuffle(image_names) # shuffle images\n",
        "    \n",
        "  # if num_images is None, set to use ALL images in directory\n",
        "  if num_images == None:\n",
        "    num_images = len(image_names)\n",
        "  \n",
        "  # put 4-channel images into 4D numpy array\n",
        "  images = []\n",
        "  \n",
        "  count = 0\n",
        "  num_used = 0\n",
        "  while num_used < num_images and count < len(image_names):\n",
        "    \n",
        "    image_name = image_names[count]\n",
        "    count += 1\n",
        "      \n",
        "    # create a list of all the channels in the image \n",
        "    channels = [cv2.imread(directory_name + '/' + image_name + '_' + color + '.png', 0)\n",
        "                    for color in channel_colors]\n",
        "\n",
        "    # check if any of the channels are missing for image\n",
        "    missing_channels = [x is None for x in channels]\n",
        "    \n",
        "    # add 3D image to list if no channels are missing\n",
        "    if any(missing_channels):\n",
        "      print('skipped', image_name + ', missing', [channel_colors[i] for i, x in enumerate(channels) if x is None])\n",
        "      continue\n",
        "    else:\n",
        "      num_used += 1\n",
        "      images.append(np.stack(channels, axis=0))\n",
        "  \n",
        "  # stack 3D images into 4D numpy array\n",
        "  print('skipped', count - num_used, 'images due to missing channels')\n",
        "  return np.stack(images, axis=0), image_names"
      ],
      "execution_count": 0,
      "outputs": []
    },
    {
      "metadata": {
        "id": "pS1FwGA2ElN2",
        "colab_type": "code",
        "colab": {}
      },
      "cell_type": "code",
      "source": [
        "# RUN CODE BELOW HERE"
      ],
      "execution_count": 0,
      "outputs": []
    },
    {
      "metadata": {
        "id": "AaZ2yh1RkhXB",
        "colab_type": "code",
        "colab": {
          "base_uri": "https://localhost:8080/",
          "height": 125
        },
        "outputId": "f07bbac1-dc76-49d0-e3ee-a27f4f5a3d97"
      },
      "cell_type": "code",
      "source": [
        "from google.colab import drive\n",
        "drive.mount('/content/gdrive')"
      ],
      "execution_count": 42,
      "outputs": [
        {
          "output_type": "stream",
          "text": [
            "Go to this URL in a browser: https://accounts.google.com/o/oauth2/auth?client_id=947318989803-6bn6qk8qdgf4n4g3pfee6491hc0brc4i.apps.googleusercontent.com&redirect_uri=urn%3Aietf%3Awg%3Aoauth%3A2.0%3Aoob&scope=email%20https%3A%2F%2Fwww.googleapis.com%2Fauth%2Fdocs.test%20https%3A%2F%2Fwww.googleapis.com%2Fauth%2Fdrive%20https%3A%2F%2Fwww.googleapis.com%2Fauth%2Fdrive.photos.readonly%20https%3A%2F%2Fwww.googleapis.com%2Fauth%2Fpeopleapi.readonly&response_type=code\n",
            "\n",
            "Enter your authorization code:\n",
            "··········\n",
            "Mounted at /content/gdrive\n"
          ],
          "name": "stdout"
        }
      ]
    },
    {
      "metadata": {
        "id": "sMANHFcNih2f",
        "colab_type": "code",
        "colab": {
          "base_uri": "https://localhost:8080/",
          "height": 642
        },
        "outputId": "8569b127-9919-45d2-b850-7945e1d1943a"
      },
      "cell_type": "code",
      "source": [
        "# load images as numpy arrays\n",
        "\n",
        "num_train = 50\n",
        "num_test = 10\n",
        "\n",
        "X_train, train_images = data_to_numpy('gdrive/My Drive/train', num_train)\n",
        "# X_test, test_images = data_to_numpy('gdrive/My Drive/test', num_test)"
      ],
      "execution_count": 147,
      "outputs": [
        {
          "output_type": "stream",
          "text": [
            "skipped 22b0a818-bbad-11e8-b2ba-ac1f6b6435d0, missing ['blue', 'green', 'yellow']\n",
            "skipped 157f277e-bbb6-11e8-b2ba-ac1f6b6435d0, missing ['red', 'green', 'yellow']\n",
            "skipped 0089bdfe-bbc8-11e8-b2bc-ac1f6b6435d0, missing ['blue', 'green', 'yellow']\n",
            "skipped da42ea86-bb99-11e8-b2b9-ac1f6b6435d0, missing ['red', 'blue', 'yellow']\n",
            "skipped 0eb8703e-bba8-11e8-b2ba-ac1f6b6435d0, missing ['red', 'blue', 'green']\n",
            "skipped f6ff8720-bbb6-11e8-b2ba-ac1f6b6435d0, missing ['red', 'green', 'yellow']\n",
            "skipped 4708d75e-bb9d-11e8-b2b9-ac1f6b6435d0, missing ['red', 'blue', 'green']\n",
            "skipped 156d4bc0-bba8-11e8-b2ba-ac1f6b6435d0, missing ['blue', 'green']\n",
            "skipped 0ef7bda6-bbbd-11e8-b2ba-ac1f6b6435d0, missing ['red', 'green', 'yellow']\n",
            "skipped 51943f28-bbb7-11e8-b2ba-ac1f6b6435d0, missing ['red', 'blue', 'yellow']\n"
          ],
          "name": "stdout"
        },
        {
          "output_type": "error",
          "ename": "KeyboardInterrupt",
          "evalue": "ignored",
          "traceback": [
            "\u001b[0;31m---------------------------------------------------------------------------\u001b[0m",
            "\u001b[0;31mKeyboardInterrupt\u001b[0m                         Traceback (most recent call last)",
            "\u001b[0;32m<ipython-input-147-f069f5b4a4ea>\u001b[0m in \u001b[0;36m<module>\u001b[0;34m()\u001b[0m\n\u001b[1;32m      3\u001b[0m \u001b[0mnum_test\u001b[0m \u001b[0;34m=\u001b[0m \u001b[0;36m10\u001b[0m\u001b[0;34m\u001b[0m\u001b[0;34m\u001b[0m\u001b[0m\n\u001b[1;32m      4\u001b[0m \u001b[0;34m\u001b[0m\u001b[0m\n\u001b[0;32m----> 5\u001b[0;31m \u001b[0mX_train\u001b[0m\u001b[0;34m,\u001b[0m \u001b[0mtrain_images\u001b[0m \u001b[0;34m=\u001b[0m \u001b[0mdata_to_numpy\u001b[0m\u001b[0;34m(\u001b[0m\u001b[0;34m'gdrive/My Drive/train'\u001b[0m\u001b[0;34m,\u001b[0m \u001b[0mnum_train\u001b[0m\u001b[0;34m)\u001b[0m\u001b[0;34m\u001b[0m\u001b[0;34m\u001b[0m\u001b[0m\n\u001b[0m\u001b[1;32m      6\u001b[0m \u001b[0;31m# X_test, test_images = data_to_numpy('gdrive/My Drive/test', num_test)\u001b[0m\u001b[0;34m\u001b[0m\u001b[0;34m\u001b[0m\u001b[0;34m\u001b[0m\u001b[0m\n",
            "\u001b[0;32m<ipython-input-146-a8e8f20306f4>\u001b[0m in \u001b[0;36mdata_to_numpy\u001b[0;34m(directory_name, num_images)\u001b[0m\n\u001b[1;32m     32\u001b[0m     \u001b[0;31m# create a list of all the channels in the image\u001b[0m\u001b[0;34m\u001b[0m\u001b[0;34m\u001b[0m\u001b[0;34m\u001b[0m\u001b[0m\n\u001b[1;32m     33\u001b[0m     channels = [cv2.imread(directory_name + '/' + image_name + '_' + color + '.png', 0)\n\u001b[0;32m---> 34\u001b[0;31m                     for color in channel_colors]\n\u001b[0m\u001b[1;32m     35\u001b[0m \u001b[0;34m\u001b[0m\u001b[0m\n\u001b[1;32m     36\u001b[0m     \u001b[0;31m# check if any of the channels are missing for image\u001b[0m\u001b[0;34m\u001b[0m\u001b[0;34m\u001b[0m\u001b[0;34m\u001b[0m\u001b[0m\n",
            "\u001b[0;32m<ipython-input-146-a8e8f20306f4>\u001b[0m in \u001b[0;36m<listcomp>\u001b[0;34m(.0)\u001b[0m\n\u001b[1;32m     32\u001b[0m     \u001b[0;31m# create a list of all the channels in the image\u001b[0m\u001b[0;34m\u001b[0m\u001b[0;34m\u001b[0m\u001b[0;34m\u001b[0m\u001b[0m\n\u001b[1;32m     33\u001b[0m     channels = [cv2.imread(directory_name + '/' + image_name + '_' + color + '.png', 0)\n\u001b[0;32m---> 34\u001b[0;31m                     for color in channel_colors]\n\u001b[0m\u001b[1;32m     35\u001b[0m \u001b[0;34m\u001b[0m\u001b[0m\n\u001b[1;32m     36\u001b[0m     \u001b[0;31m# check if any of the channels are missing for image\u001b[0m\u001b[0;34m\u001b[0m\u001b[0;34m\u001b[0m\u001b[0;34m\u001b[0m\u001b[0m\n",
            "\u001b[0;31mKeyboardInterrupt\u001b[0m: "
          ]
        }
      ]
    },
    {
      "metadata": {
        "id": "pdPyLCgpGEek",
        "colab_type": "code",
        "colab": {
          "base_uri": "https://localhost:8080/",
          "height": 52
        },
        "outputId": "9917f7f4-c610-4d68-8b12-c3dbf6ad3235"
      },
      "cell_type": "code",
      "source": [
        "# confirm shape of data and check how many images possible\n",
        "\n",
        "print(X_train.shape) # num_trainx512x512\n",
        "print(len(train_images)) # currently 9077x4x512x512 images"
      ],
      "execution_count": 82,
      "outputs": [
        {
          "output_type": "stream",
          "text": [
            "(50, 4)\n",
            "9077\n"
          ],
          "name": "stdout"
        }
      ]
    },
    {
      "metadata": {
        "id": "a2E_BTscWsTg",
        "colab_type": "code",
        "colab": {
          "base_uri": "https://localhost:8080/",
          "height": 34
        },
        "outputId": "0bb764cd-5d63-4755-d78d-d665d3871d8c"
      },
      "cell_type": "code",
      "source": [
        "l = [x for x in range(10)]\n",
        "any(x == None for x in l)\n",
        "    "
      ],
      "execution_count": 126,
      "outputs": [
        {
          "output_type": "execute_result",
          "data": {
            "text/plain": [
              "False"
            ]
          },
          "metadata": {
            "tags": []
          },
          "execution_count": 126
        }
      ]
    }
  ]
}