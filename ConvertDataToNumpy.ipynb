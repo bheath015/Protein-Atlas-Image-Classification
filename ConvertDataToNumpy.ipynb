{
  "nbformat": 4,
  "nbformat_minor": 0,
  "metadata": {
    "colab": {
      "name": "ConvertDataToNumpy.ipynb",
      "version": "0.3.2",
      "provenance": [],
      "collapsed_sections": [],
      "include_colab_link": true
    },
    "kernelspec": {
      "name": "python3",
      "display_name": "Python 3"
    }
  },
  "cells": [
    {
      "cell_type": "markdown",
      "metadata": {
        "id": "view-in-github",
        "colab_type": "text"
      },
      "source": [
        "<a href=\"https://colab.research.google.com/github/bheath015/Protein-Atlas-Image-Classification/blob/master/ConvertDataToNumpy.ipynb\" target=\"_parent\"><img src=\"https://colab.research.google.com/assets/colab-badge.svg\" alt=\"Open In Colab\"/></a>"
      ]
    },
    {
      "metadata": {
        "id": "X_L2i6aMkva-",
        "colab_type": "code",
        "colab": {}
      },
      "cell_type": "code",
      "source": [
        "import os\n",
        "import random\n",
        "import numpy as np\n",
        "import cv2"
      ],
      "execution_count": 0,
      "outputs": []
    },
    {
      "metadata": {
        "id": "wPIXATvBjYst",
        "colab_type": "code",
        "colab": {}
      },
      "cell_type": "code",
      "source": [
        "# function to load all images in directory as numpy array\n",
        "\n",
        "def data_to_numpy(directory_name, num_images=None):\n",
        "  '''\n",
        "  Construct a num_imagesxwidthxheight numpy array of \n",
        "\n",
        "  :param directory_name: name of the directory where the dataset is stored\n",
        "  :param num_images: number of images to keep in resulting 4D numpy array\n",
        "                     if None, use all images\n",
        "  :return: numpy array of images: (num_images, 4 color channels, width, height)\n",
        "  '''\n",
        "  \n",
        "  channel_colors = ['red', 'blue', 'green', 'yellow']\n",
        "  \n",
        "  # make a list of all 4-channel images in directory (red, blue, green, yellow)\n",
        "  image_names = list({image_name.split('_')[0] \n",
        "                      for image_name in os.listdir(directory_name)})\n",
        "  random.shuffle(image_names) # shuffle images\n",
        "    \n",
        "  # if num_images is None, set to use ALL images in directory\n",
        "  if num_images == None:\n",
        "    num_images = len(image_names)\n",
        "  \n",
        "  # put 4-channel images into 4D numpy array\n",
        "  images = []\n",
        "  \n",
        "  count = 0\n",
        "  num_used = 0\n",
        "  while num_used < num_images and count < len(image_names):\n",
        "    \n",
        "    image_name = image_names[count]\n",
        "    count += 1\n",
        "      \n",
        "    # create a list of all the channels in the image \n",
        "    channels = [cv2.imread(directory_name + '/' + image_name + '_' + color + \n",
        "                           '.png', 0) for color in channel_colors]\n",
        "\n",
        "    # check if any of the channels are missing for image\n",
        "    missing_channels = [x is None for x in channels]\n",
        "    \n",
        "    # add 3D image to list if no channels are missing\n",
        "    if any(missing_channels):\n",
        "      print('skipped', image_name + ', missing',  ###### COMMENT THIS OUT\n",
        "            [channel_colors[i] for i, x in enumerate(channels) if x is None])\n",
        "      continue\n",
        "    else:\n",
        "      print('used', image_name) ###### COMMENT THIS OUT\n",
        "      num_used += 1\n",
        "      images.append(np.stack(channels, axis=0))\n",
        "  \n",
        "  # stack 3D images into 4D numpy array\n",
        "  print('skipped', count - num_used, 'images due to missing channels')\n",
        "  return np.stack(images, axis=0), image_names"
      ],
      "execution_count": 0,
      "outputs": []
    },
    {
      "metadata": {
        "id": "pS1FwGA2ElN2",
        "colab_type": "code",
        "colab": {}
      },
      "cell_type": "code",
      "source": [
        "# RUN CODE BELOW HERE"
      ],
      "execution_count": 0,
      "outputs": []
    },
    {
      "metadata": {
        "id": "AaZ2yh1RkhXB",
        "colab_type": "code",
        "colab": {
          "base_uri": "https://localhost:8080/",
          "height": 125
        },
        "outputId": "f07bbac1-dc76-49d0-e3ee-a27f4f5a3d97"
      },
      "cell_type": "code",
      "source": [
        "from google.colab import drive\n",
        "drive.mount('/content/gdrive')"
      ],
      "execution_count": 42,
      "outputs": [
        {
          "output_type": "stream",
          "text": [
            "Go to this URL in a browser: https://accounts.google.com/o/oauth2/auth?client_id=947318989803-6bn6qk8qdgf4n4g3pfee6491hc0brc4i.apps.googleusercontent.com&redirect_uri=urn%3Aietf%3Awg%3Aoauth%3A2.0%3Aoob&scope=email%20https%3A%2F%2Fwww.googleapis.com%2Fauth%2Fdocs.test%20https%3A%2F%2Fwww.googleapis.com%2Fauth%2Fdrive%20https%3A%2F%2Fwww.googleapis.com%2Fauth%2Fdrive.photos.readonly%20https%3A%2F%2Fwww.googleapis.com%2Fauth%2Fpeopleapi.readonly&response_type=code\n",
            "\n",
            "Enter your authorization code:\n",
            "··········\n",
            "Mounted at /content/gdrive\n"
          ],
          "name": "stdout"
        }
      ]
    },
    {
      "metadata": {
        "id": "sMANHFcNih2f",
        "colab_type": "code",
        "colab": {
          "base_uri": "https://localhost:8080/",
          "height": 1030
        },
        "outputId": "d316048b-cae2-46f9-da17-290109829e03"
      },
      "cell_type": "code",
      "source": [
        "# load images as numpy arrays\n",
        "\n",
        "num_train = 50\n",
        "num_test = 10\n",
        "\n",
        "X_train, train_images = data_to_numpy('gdrive/My Drive/train', num_train)\n",
        "# X_test, test_images = data_to_numpy('gdrive/My Drive/test', num_test)"
      ],
      "execution_count": 149,
      "outputs": [
        {
          "output_type": "stream",
          "text": [
            "skipped 7afe21e8-bbb8-11e8-b2ba-ac1f6b6435d0, missing ['red', 'green', 'yellow']\n",
            "skipped 566d1674-bbc5-11e8-b2bc-ac1f6b6435d0, missing ['red', 'green', 'yellow']\n",
            "skipped b1e6e464-bba5-11e8-b2ba-ac1f6b6435d0, missing ['blue', 'green', 'yellow']\n",
            "skipped 82d15602-bb99-11e8-b2b9-ac1f6b6435d0, missing ['blue', 'green', 'yellow']\n",
            "skipped 4bf2d050-bbaa-11e8-b2ba-ac1f6b6435d0, missing ['red', 'blue', 'yellow']\n",
            "skipped f67cd814-bbb3-11e8-b2ba-ac1f6b6435d0, missing ['red', 'green', 'yellow']\n",
            "skipped 524cc7dc-bba3-11e8-b2b9-ac1f6b6435d0, missing ['red', 'blue', 'yellow']\n",
            "skipped 570a598a-bbc4-11e8-b2bc-ac1f6b6435d0, missing ['red', 'green', 'yellow']\n",
            "skipped 24787fde-bbbe-11e8-b2ba-ac1f6b6435d0, missing ['red', 'blue', 'yellow']\n",
            "skipped d4195cdc-bbc9-11e8-b2bc-ac1f6b6435d0, missing ['green']\n",
            "skipped c9b6d348-bbb3-11e8-b2ba-ac1f6b6435d0, missing ['red', 'blue', 'yellow']\n",
            "skipped 8db316b4-bba3-11e8-b2b9-ac1f6b6435d0, missing ['blue', 'green', 'yellow']\n",
            "skipped afa0f196-bba4-11e8-b2ba-ac1f6b6435d0, missing ['red', 'blue', 'yellow']\n",
            "skipped 3a612886-bbbf-11e8-b2ba-ac1f6b6435d0, missing ['blue', 'green', 'yellow']\n",
            "skipped 40ed4698-bbac-11e8-b2ba-ac1f6b6435d0, missing ['red', 'blue', 'green']\n",
            "skipped 6a97ece2-bbb0-11e8-b2ba-ac1f6b6435d0, missing ['red', 'green', 'yellow']\n",
            "skipped 6a78f846-bbbf-11e8-b2ba-ac1f6b6435d0, missing ['red', 'blue', 'green']\n",
            "skipped f5dad562-bbc4-11e8-b2bc-ac1f6b6435d0, missing ['green', 'yellow']\n",
            "skipped 4b2c4e76-bbaf-11e8-b2ba-ac1f6b6435d0, missing ['red', 'blue', 'yellow']\n",
            "skipped d07d9534-bbab-11e8-b2ba-ac1f6b6435d0, missing ['blue', 'green', 'yellow']\n",
            "skipped cb48cb8a-bbbd-11e8-b2ba-ac1f6b6435d0, missing ['red', 'green', 'yellow']\n",
            "skipped 9a786436-bb9d-11e8-b2b9-ac1f6b6435d0, missing ['red', 'blue', 'yellow']\n",
            "skipped 54081bde-bb9a-11e8-b2b9-ac1f6b6435d0, missing ['red', 'yellow']\n",
            "skipped 646cbf2e-bbbe-11e8-b2ba-ac1f6b6435d0, missing ['red', 'green', 'yellow']\n",
            "skipped 2144053c-bba9-11e8-b2ba-ac1f6b6435d0, missing ['red', 'blue', 'green']\n",
            "skipped 83b9ec52-bbc4-11e8-b2bc-ac1f6b6435d0, missing ['red', 'blue', 'yellow']\n",
            "skipped b17ea5ba-bbc4-11e8-b2bc-ac1f6b6435d0, missing ['red', 'blue']\n",
            "skipped 94b602d4-bbc4-11e8-b2bc-ac1f6b6435d0, missing ['red', 'blue', 'green']\n",
            "skipped 469fea9a-bbad-11e8-b2ba-ac1f6b6435d0, missing ['red', 'green', 'yellow']\n",
            "skipped ffaa8068-bbad-11e8-b2ba-ac1f6b6435d0, missing ['red', 'green', 'yellow']\n",
            "skipped 13d08690-bba5-11e8-b2ba-ac1f6b6435d0, missing ['red', 'blue', 'yellow']\n",
            "skipped d6157ba4-bbc1-11e8-b2bb-ac1f6b6435d0, missing ['blue', 'green', 'yellow']\n"
          ],
          "name": "stdout"
        },
        {
          "output_type": "error",
          "ename": "KeyboardInterrupt",
          "evalue": "ignored",
          "traceback": [
            "\u001b[0;31m---------------------------------------------------------------------------\u001b[0m",
            "\u001b[0;31mKeyboardInterrupt\u001b[0m                         Traceback (most recent call last)",
            "\u001b[0;32m<ipython-input-149-f069f5b4a4ea>\u001b[0m in \u001b[0;36m<module>\u001b[0;34m()\u001b[0m\n\u001b[1;32m      3\u001b[0m \u001b[0mnum_test\u001b[0m \u001b[0;34m=\u001b[0m \u001b[0;36m10\u001b[0m\u001b[0;34m\u001b[0m\u001b[0;34m\u001b[0m\u001b[0m\n\u001b[1;32m      4\u001b[0m \u001b[0;34m\u001b[0m\u001b[0m\n\u001b[0;32m----> 5\u001b[0;31m \u001b[0mX_train\u001b[0m\u001b[0;34m,\u001b[0m \u001b[0mtrain_images\u001b[0m \u001b[0;34m=\u001b[0m \u001b[0mdata_to_numpy\u001b[0m\u001b[0;34m(\u001b[0m\u001b[0;34m'gdrive/My Drive/train'\u001b[0m\u001b[0;34m,\u001b[0m \u001b[0mnum_train\u001b[0m\u001b[0;34m)\u001b[0m\u001b[0;34m\u001b[0m\u001b[0;34m\u001b[0m\u001b[0m\n\u001b[0m\u001b[1;32m      6\u001b[0m \u001b[0;31m# X_test, test_images = data_to_numpy('gdrive/My Drive/test', num_test)\u001b[0m\u001b[0;34m\u001b[0m\u001b[0;34m\u001b[0m\u001b[0;34m\u001b[0m\u001b[0m\n",
            "\u001b[0;32m<ipython-input-148-e87ab02eb4d1>\u001b[0m in \u001b[0;36mdata_to_numpy\u001b[0;34m(directory_name, num_images)\u001b[0m\n\u001b[1;32m     32\u001b[0m     \u001b[0;31m# create a list of all the channels in the image\u001b[0m\u001b[0;34m\u001b[0m\u001b[0;34m\u001b[0m\u001b[0;34m\u001b[0m\u001b[0m\n\u001b[1;32m     33\u001b[0m     channels = [cv2.imread(directory_name + '/' + image_name + '_' + color + '.png', 0)\n\u001b[0;32m---> 34\u001b[0;31m                     for color in channel_colors]\n\u001b[0m\u001b[1;32m     35\u001b[0m \u001b[0;34m\u001b[0m\u001b[0m\n\u001b[1;32m     36\u001b[0m     \u001b[0;31m# check if any of the channels are missing for image\u001b[0m\u001b[0;34m\u001b[0m\u001b[0;34m\u001b[0m\u001b[0;34m\u001b[0m\u001b[0m\n",
            "\u001b[0;32m<ipython-input-148-e87ab02eb4d1>\u001b[0m in \u001b[0;36m<listcomp>\u001b[0;34m(.0)\u001b[0m\n\u001b[1;32m     32\u001b[0m     \u001b[0;31m# create a list of all the channels in the image\u001b[0m\u001b[0;34m\u001b[0m\u001b[0;34m\u001b[0m\u001b[0;34m\u001b[0m\u001b[0m\n\u001b[1;32m     33\u001b[0m     channels = [cv2.imread(directory_name + '/' + image_name + '_' + color + '.png', 0)\n\u001b[0;32m---> 34\u001b[0;31m                     for color in channel_colors]\n\u001b[0m\u001b[1;32m     35\u001b[0m \u001b[0;34m\u001b[0m\u001b[0m\n\u001b[1;32m     36\u001b[0m     \u001b[0;31m# check if any of the channels are missing for image\u001b[0m\u001b[0;34m\u001b[0m\u001b[0;34m\u001b[0m\u001b[0;34m\u001b[0m\u001b[0m\n",
            "\u001b[0;31mKeyboardInterrupt\u001b[0m: "
          ]
        }
      ]
    },
    {
      "metadata": {
        "id": "pdPyLCgpGEek",
        "colab_type": "code",
        "colab": {
          "base_uri": "https://localhost:8080/",
          "height": 52
        },
        "outputId": "9917f7f4-c610-4d68-8b12-c3dbf6ad3235"
      },
      "cell_type": "code",
      "source": [
        "# confirm shape of data and check how many images possible\n",
        "\n",
        "print(X_train.shape) # num_trainx512x512\n",
        "print(len(train_images)) # currently ?x4x512x512 images"
      ],
      "execution_count": 82,
      "outputs": [
        {
          "output_type": "stream",
          "text": [
            "(50, 4)\n",
            "9077\n"
          ],
          "name": "stdout"
        }
      ]
    }
  ]
}