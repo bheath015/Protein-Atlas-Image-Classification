{
  "nbformat": 4,
  "nbformat_minor": 0,
  "metadata": {
    "colab": {
      "name": "ConvertDataToNumpy.ipynb",
      "version": "0.3.2",
      "provenance": [],
      "collapsed_sections": [],
      "include_colab_link": true
    },
    "kernelspec": {
      "name": "python3",
      "display_name": "Python 3"
    }
  },
  "cells": [
    {
      "cell_type": "markdown",
      "metadata": {
        "id": "view-in-github",
        "colab_type": "text"
      },
      "source": [
        "<a href=\"https://colab.research.google.com/github/bheath015/Protein-Atlas-Image-Classification/blob/vidula/ConvertDataToNumpy.ipynb\" target=\"_parent\"><img src=\"https://colab.research.google.com/assets/colab-badge.svg\" alt=\"Open In Colab\"/></a>"
      ]
    },
    {
      "metadata": {
        "id": "X_L2i6aMkva-",
        "colab_type": "code",
        "colab": {}
      },
      "cell_type": "code",
      "source": [
        "import os\n",
        "import numpy as np\n",
        "import cv2"
      ],
      "execution_count": 0,
      "outputs": []
    },
    {
      "metadata": {
        "id": "wPIXATvBjYst",
        "colab_type": "code",
        "colab": {}
      },
      "cell_type": "code",
      "source": [
        "def data_to_numpy(directory):\n",
        "  \n",
        "  images = np.empty()\n",
        "  \n",
        "  for image_path in os.listdir(directory_train): # for each image folder\n",
        "\n",
        "    img = cv2.imread(directory + '/' + image_path, 0)\n",
        "#     print(img.shape)\n",
        "    np.append()\n",
        "    \n",
        "   \n",
        "  pass"
      ],
      "execution_count": 0,
      "outputs": []
    },
    {
      "metadata": {
        "id": "pS1FwGA2ElN2",
        "colab_type": "code",
        "colab": {}
      },
      "cell_type": "code",
      "source": [
        "# RUN CODE BELOW HERE"
      ],
      "execution_count": 0,
      "outputs": []
    },
    {
      "metadata": {
        "id": "AaZ2yh1RkhXB",
        "colab_type": "code",
        "colab": {}
      },
      "cell_type": "code",
      "source": [
        "from google.colab import drive\n",
        "drive.mount('/content/gdrive')"
      ],
      "execution_count": 0,
      "outputs": []
    },
    {
      "metadata": {
        "id": "sMANHFcNih2f",
        "colab_type": "code",
        "colab": {}
      },
      "cell_type": "code",
      "source": [
        "directory_train = 'gdrive/My Drive/train'\n",
        "directory_test = 'gdrive/My Drive/test'\n",
        "\n",
        "data_to_numpy(directory_train)"
      ],
      "execution_count": 0,
      "outputs": []
    },
    {
      "metadata": {
        "id": "kNEYCXN2kt0n",
        "colab_type": "code",
        "colab": {}
      },
      "cell_type": "code",
      "source": [
        "# # make sure can access and display image\n",
        "# image_path = 'gdrive/My Drive/train/0a0af552-bbb7-11e8-b2ba-ac1f6b6435d0_blue.png'\n",
        "# plt.figure()\n",
        "# plt.imshow(image_path) \n",
        "# plt.show()  "
      ],
      "execution_count": 0,
      "outputs": []
    }
  ]
}